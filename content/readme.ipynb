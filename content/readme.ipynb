{
 "cells": [
  {
   "cell_type": "markdown",
   "metadata": {
    "toc": true
   },
   "source": [
    "<h1>大纲<span class=\"tocSkip\"></span></h1>\n",
    "<div class=\"toc\"><ul class=\"toc-item\"><li><span><a href=\"#需求\" data-toc-modified-id=\"需求-1\"><span class=\"toc-item-num\">1&nbsp;&nbsp;</span>需求</a></span></li><li><span><a href=\"#&quot;接口&quot;\" data-toc-modified-id=\"&quot;接口&quot;-2\"><span class=\"toc-item-num\">2&nbsp;&nbsp;</span>\"接口\"</a></span></li></ul></div>"
   ]
  },
  {
   "cell_type": "markdown",
   "metadata": {},
   "source": [
    "# 需求\n",
    "\n",
    "**注意：实现的作为一个子模块，提供一个函数给用户调用**\n",
    "输入：\n",
    "- 来源：APP端发送的原始`音频流数据`\n",
    "- 格式：音频流数据而非音频文件\n",
    "- 备注：实时数据\n",
    "\n",
    "对包含噪音的输入音频流进行：\n",
    "- ~~提取出目标声音（用户回答的声音）~~\n",
    "- 进行VAD处理，除去非语音段\n",
    "\n",
    "输出：\n",
    "- 格式：音频流数据\n",
    "- 备注：音频流\n",
    "\n",
    "更新：\n",
    "- 2018年04月24日15:39:40\n",
    "    1. 业务需求实现问题判断错误，这不是完全的噪声去除或者语音增强，而是`回声消除`\n",
    "- 2018年04月25日09:51:12\n",
    "    1. 需求妥协，不进行回声消除，而是降低用户使用体验，除去采集到的包含人声和tts声音中，tts播放时长的那部分音频。\n",
    "    1. 意味着只能采集在tts播放的时候完成后用户说话的声音。\n",
    "    "
   ]
  },
  {
   "cell_type": "markdown",
   "metadata": {},
   "source": [
    "# \"接口\""
   ]
  },
  {
   "cell_type": "markdown",
   "metadata": {},
   "source": [
    "**使用这个功能只需要3步操作**"
   ]
  },
  {
   "cell_type": "markdown",
   "metadata": {},
   "source": [
    "```python\n",
    "import vad.vad as vv\n",
    "...\n",
    "# 传入需要进行VAD的音频流数据（numpy.short类型），初始化Vad对象\n",
    "vad_obj = vv.Vad(value_stream) \n",
    "# 获取处理结果\n",
    "result = vad_obj.getResult()\n",
    "...\n",
    "```"
   ]
  },
  {
   "cell_type": "markdown",
   "metadata": {},
   "source": [
    "注意,音频流数据只能是:\n",
    "1. 采样率：16000\n",
    "1. 单通道\n",
    "1. 采样宽度：16bit"
   ]
  }
 ],
 "metadata": {
  "kernelspec": {
   "display_name": "conda all lib",
   "language": "python",
   "name": "base"
  },
  "language_info": {
   "codemirror_mode": {
    "name": "ipython",
    "version": 3
   },
   "file_extension": ".py",
   "mimetype": "text/x-python",
   "name": "python",
   "nbconvert_exporter": "python",
   "pygments_lexer": "ipython3",
   "version": "3.6.4"
  },
  "latex_envs": {
   "LaTeX_envs_menu_present": true,
   "autoclose": false,
   "autocomplete": true,
   "bibliofile": "biblio.bib",
   "cite_by": "apalike",
   "current_citInitial": 1,
   "eqLabelWithNumbers": true,
   "eqNumInitial": 1,
   "hotkeys": {
    "equation": "Ctrl-E",
    "itemize": "Ctrl-I"
   },
   "labels_anchors": false,
   "latex_user_defs": false,
   "report_style_numbering": false,
   "user_envs_cfg": false
  },
  "toc": {
   "base_numbering": 1,
   "nav_menu": {},
   "number_sections": true,
   "sideBar": true,
   "skip_h1_title": false,
   "title_cell": "大纲",
   "title_sidebar": "目录",
   "toc_cell": true,
   "toc_position": {},
   "toc_section_display": true,
   "toc_window_display": true
  }
 },
 "nbformat": 4,
 "nbformat_minor": 2
}
